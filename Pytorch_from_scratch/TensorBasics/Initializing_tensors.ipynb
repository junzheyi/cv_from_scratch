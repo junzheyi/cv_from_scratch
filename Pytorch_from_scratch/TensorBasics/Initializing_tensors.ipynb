{
 "cells": [
  {
   "metadata": {},
   "cell_type": "markdown",
   "source": "## initializing tensor creation",
   "id": "59acc3df4ccd2fb7"
  },
  {
   "metadata": {},
   "cell_type": "markdown",
   "source": "#### 1. from list",
   "id": "427a3ead7670b870"
  },
  {
   "metadata": {
    "ExecuteTime": {
     "end_time": "2024-05-30T12:38:38.729741Z",
     "start_time": "2024-05-30T12:38:37.199305Z"
    }
   },
   "cell_type": "code",
   "source": [
    "import torch\n",
    "device = \"cuda\" if torch.cuda.is_available() else \"cpu\""
   ],
   "id": "12c010f44350e5e9",
   "outputs": [],
   "execution_count": 1
  },
  {
   "metadata": {
    "ExecuteTime": {
     "end_time": "2024-05-30T12:38:38.737918Z",
     "start_time": "2024-05-30T12:38:38.730747Z"
    }
   },
   "cell_type": "code",
   "source": [
    "my_tensor = torch.tensor([[1, 2, 3], [4, 5, 6], [7, 8, 9]])\n",
    "print(my_tensor)"
   ],
   "id": "initial_id",
   "outputs": [
    {
     "name": "stdout",
     "output_type": "stream",
     "text": [
      "tensor([[1, 2, 3],\n",
      "        [4, 5, 6],\n",
      "        [7, 8, 9]])\n"
     ]
    }
   ],
   "execution_count": 2
  },
  {
   "metadata": {
    "ExecuteTime": {
     "end_time": "2024-05-30T12:38:38.744468Z",
     "start_time": "2024-05-30T12:38:38.738981Z"
    }
   },
   "cell_type": "code",
   "source": [
    "my_tensor2 = torch.tensor([(1, 2, 3), (4, 5, 6), (7, 8, 9)])\n",
    "print(my_tensor2)"
   ],
   "id": "8b809c48610743b",
   "outputs": [
    {
     "name": "stdout",
     "output_type": "stream",
     "text": [
      "tensor([[1, 2, 3],\n",
      "        [4, 5, 6],\n",
      "        [7, 8, 9]])\n"
     ]
    }
   ],
   "execution_count": 3
  },
  {
   "metadata": {},
   "cell_type": "markdown",
   "source": "无论是列表还是元组，torch.tensor都会将它们转换为张量，所以my_tensor和my_tensor2的结果是相同的。",
   "id": "39e373720751dfbe"
  },
  {
   "metadata": {
    "ExecuteTime": {
     "end_time": "2024-05-30T12:38:38.751660Z",
     "start_time": "2024-05-30T12:38:38.746475Z"
    }
   },
   "cell_type": "code",
   "source": [
    "print(my_tensor.device)\n",
    "print(my_tensor2.device)\n",
    "print(my_tensor.dtype)\n",
    "my_tensor2 = torch.tensor([(1, 2, 3), (4, 5, 6), (7, 8, 9)],dtype=torch.float32, device=device)\n",
    "print(my_tensor2.device)\n",
    "print(my_tensor2.dtype)"
   ],
   "id": "7a3144a7c5e138dc",
   "outputs": [
    {
     "name": "stdout",
     "output_type": "stream",
     "text": [
      "cpu\n",
      "cpu\n",
      "torch.int64\n",
      "cpu\n",
      "torch.float32\n"
     ]
    }
   ],
   "execution_count": 4
  },
  {
   "metadata": {},
   "cell_type": "markdown",
   "source": "### 其他初始化的方法",
   "id": "fad974cdd94963a0"
  },
  {
   "metadata": {
    "ExecuteTime": {
     "end_time": "2024-05-30T12:38:38.761296Z",
     "start_time": "2024-05-30T12:38:38.755184Z"
    }
   },
   "cell_type": "code",
   "source": [
    "x = torch.empty(size=(3, 3))\n",
    "print(x)"
   ],
   "id": "6c625301c5de08dd",
   "outputs": [
    {
     "name": "stdout",
     "output_type": "stream",
     "text": [
      "tensor([[0., 0., 0.],\n",
      "        [0., 0., 0.],\n",
      "        [0., 0., 0.]])\n"
     ]
    }
   ],
   "execution_count": 5
  },
  {
   "metadata": {
    "ExecuteTime": {
     "end_time": "2024-05-30T12:38:38.768167Z",
     "start_time": "2024-05-30T12:38:38.763303Z"
    }
   },
   "cell_type": "code",
   "source": [
    "x = torch.zeros((3, 3))\n",
    "print(x)"
   ],
   "id": "215f5f4b1526ca21",
   "outputs": [
    {
     "name": "stdout",
     "output_type": "stream",
     "text": [
      "tensor([[0., 0., 0.],\n",
      "        [0., 0., 0.],\n",
      "        [0., 0., 0.]])\n"
     ]
    }
   ],
   "execution_count": 6
  },
  {
   "metadata": {
    "ExecuteTime": {
     "end_time": "2024-05-30T12:38:38.775848Z",
     "start_time": "2024-05-30T12:38:38.769175Z"
    }
   },
   "cell_type": "code",
   "source": [
    "x = torch.ones((3, 3))\n",
    "print(x)"
   ],
   "id": "a707120d97ed5995",
   "outputs": [
    {
     "name": "stdout",
     "output_type": "stream",
     "text": [
      "tensor([[1., 1., 1.],\n",
      "        [1., 1., 1.],\n",
      "        [1., 1., 1.]])\n"
     ]
    }
   ],
   "execution_count": 7
  },
  {
   "metadata": {
    "ExecuteTime": {
     "end_time": "2024-05-30T12:38:38.782392Z",
     "start_time": "2024-05-30T12:38:38.776967Z"
    }
   },
   "cell_type": "code",
   "source": [
    "x = torch.eye(5, 5)\n",
    "print(x)"
   ],
   "id": "ff69ab0172b0a152",
   "outputs": [
    {
     "name": "stdout",
     "output_type": "stream",
     "text": [
      "tensor([[1., 0., 0., 0., 0.],\n",
      "        [0., 1., 0., 0., 0.],\n",
      "        [0., 0., 1., 0., 0.],\n",
      "        [0., 0., 0., 1., 0.],\n",
      "        [0., 0., 0., 0., 1.]])\n"
     ]
    }
   ],
   "execution_count": 8
  },
  {
   "metadata": {},
   "cell_type": "markdown",
   "source": "`torch.eye`创建一个单位矩阵，对角线上的元素为1，其他元素为0",
   "id": "4d37a5f8510b678c"
  },
  {
   "metadata": {
    "ExecuteTime": {
     "end_time": "2024-05-30T12:38:38.789616Z",
     "start_time": "2024-05-30T12:38:38.783449Z"
    }
   },
   "cell_type": "code",
   "source": [
    "x = torch.rand((3, 3))\n",
    "print(x)"
   ],
   "id": "604ec541053ffc81",
   "outputs": [
    {
     "name": "stdout",
     "output_type": "stream",
     "text": [
      "tensor([[0.9019, 0.2100, 0.8126],\n",
      "        [0.5526, 0.5354, 0.0305],\n",
      "        [0.9628, 0.8263, 0.6265]])\n"
     ]
    }
   ],
   "execution_count": 9
  },
  {
   "metadata": {
    "ExecuteTime": {
     "end_time": "2024-05-30T12:38:38.797452Z",
     "start_time": "2024-05-30T12:38:38.790623Z"
    }
   },
   "cell_type": "code",
   "source": [
    "x = torch.arange(7)\n",
    "print(x)\n",
    "x = torch.arange(1, 7)\n",
    "print(x)\n",
    "x = torch.arange(1, 7, 2)\n",
    "print(x)\n",
    "x = torch.arange(0, 5, 1)\n",
    "print(x)\n",
    "x = torch.arange(start=0, end=5, step=1)\n",
    "print(x)"
   ],
   "id": "7a1be8f745fd551d",
   "outputs": [
    {
     "name": "stdout",
     "output_type": "stream",
     "text": [
      "tensor([0, 1, 2, 3, 4, 5, 6])\n",
      "tensor([1, 2, 3, 4, 5, 6])\n",
      "tensor([1, 3, 5])\n",
      "tensor([0, 1, 2, 3, 4])\n",
      "tensor([0, 1, 2, 3, 4])\n"
     ]
    }
   ],
   "execution_count": 10
  },
  {
   "metadata": {
    "ExecuteTime": {
     "end_time": "2024-05-30T12:38:38.805228Z",
     "start_time": "2024-05-30T12:38:38.798525Z"
    }
   },
   "cell_type": "code",
   "source": [
    "x = torch.linspace(0.1, 1, 10)\n",
    "print(x)\n",
    "x = torch.linspace(start=0.1, end = 1, steps=10)\n",
    "print(x)"
   ],
   "id": "133d874b5fddefd7",
   "outputs": [
    {
     "name": "stdout",
     "output_type": "stream",
     "text": [
      "tensor([0.1000, 0.2000, 0.3000, 0.4000, 0.5000, 0.6000, 0.7000, 0.8000, 0.9000,\n",
      "        1.0000])\n",
      "tensor([0.1000, 0.2000, 0.3000, 0.4000, 0.5000, 0.6000, 0.7000, 0.8000, 0.9000,\n",
      "        1.0000])\n"
     ]
    }
   ],
   "execution_count": 11
  },
  {
   "metadata": {
    "ExecuteTime": {
     "end_time": "2024-05-30T12:38:38.812656Z",
     "start_time": "2024-05-30T12:38:38.806234Z"
    }
   },
   "cell_type": "code",
   "source": [
    "x = torch.empty(size=(1, 5))\n",
    "print(x)\n",
    "x = x.normal_(mean=0, std=1)\n",
    "print(x)"
   ],
   "id": "de85eee66230b1c2",
   "outputs": [
    {
     "name": "stdout",
     "output_type": "stream",
     "text": [
      "tensor([[-1.0185e-23,  1.9016e-42,  0.0000e+00,  0.0000e+00,  0.0000e+00]])\n",
      "tensor([[ 1.4993,  1.0666, -0.0791, -0.4129,  1.2724]])\n"
     ]
    }
   ],
   "execution_count": 12
  },
  {
   "metadata": {
    "ExecuteTime": {
     "end_time": "2024-05-30T12:38:38.819637Z",
     "start_time": "2024-05-30T12:38:38.813662Z"
    }
   },
   "cell_type": "code",
   "source": [
    "# or\n",
    "x = torch.empty(size=(1, 5)).normal_(mean=0, std=1)\n",
    "print(x)"
   ],
   "id": "97dd086e959198e",
   "outputs": [
    {
     "name": "stdout",
     "output_type": "stream",
     "text": [
      "tensor([[-0.7204, -0.1047,  0.6036,  0.4427, -1.4979]])\n"
     ]
    }
   ],
   "execution_count": 13
  },
  {
   "metadata": {
    "ExecuteTime": {
     "end_time": "2024-05-30T12:38:38.827802Z",
     "start_time": "2024-05-30T12:38:38.822643Z"
    }
   },
   "cell_type": "code",
   "source": [
    "# 用区间[0, 1]的均匀分布填充张量\n",
    "x = torch.empty(size=(1, 5)).uniform_(0, 1)\n",
    "print(x)"
   ],
   "id": "2170f1f5513f8d80",
   "outputs": [
    {
     "name": "stdout",
     "output_type": "stream",
     "text": [
      "tensor([[0.2142, 0.3811, 0.6197, 0.5289, 0.9761]])\n"
     ]
    }
   ],
   "execution_count": 14
  },
  {
   "metadata": {},
   "cell_type": "markdown",
   "source": "`torch.diag`将一个张量矩阵转为对角矩阵",
   "id": "9ceab622f12864db"
  },
  {
   "metadata": {
    "ExecuteTime": {
     "end_time": "2024-05-30T12:38:38.835004Z",
     "start_time": "2024-05-30T12:38:38.829811Z"
    }
   },
   "cell_type": "code",
   "source": [
    "x = torch.diag(torch.ones(3))\n",
    "print(x)"
   ],
   "id": "538e1cca43bc83fa",
   "outputs": [
    {
     "name": "stdout",
     "output_type": "stream",
     "text": [
      "tensor([[1., 0., 0.],\n",
      "        [0., 1., 0.],\n",
      "        [0., 0., 1.]])\n"
     ]
    }
   ],
   "execution_count": 15
  },
  {
   "metadata": {},
   "cell_type": "markdown",
   "source": "### how to initialize and convert tensors to other types (int, float, double)",
   "id": "31c7828df71fc25b"
  },
  {
   "metadata": {
    "ExecuteTime": {
     "end_time": "2024-05-30T12:48:19.709411Z",
     "start_time": "2024-05-30T12:48:19.703290Z"
    }
   },
   "cell_type": "code",
   "source": [
    "tensor = torch.arange(4)\n",
    "print(tensor.bool())\n",
    "print(tensor.short())\n",
    "print(tensor.long())\n",
    "print(tensor.half())\n",
    "print(tensor.float())\n",
    "print(tensor.double())"
   ],
   "id": "af9fe58a8472c615",
   "outputs": [
    {
     "name": "stdout",
     "output_type": "stream",
     "text": [
      "tensor([False,  True,  True,  True])\n",
      "tensor([0, 1, 2, 3], dtype=torch.int16)\n",
      "tensor([0, 1, 2, 3])\n",
      "tensor([0., 1., 2., 3.], dtype=torch.float16)\n",
      "tensor([0., 1., 2., 3.])\n",
      "tensor([0., 1., 2., 3.], dtype=torch.float64)\n"
     ]
    }
   ],
   "execution_count": 16
  },
  {
   "metadata": {},
   "cell_type": "markdown",
   "source": "### Array to Tensor conversion and vice-versa",
   "id": "be7690b0d0521f8c"
  },
  {
   "metadata": {
    "ExecuteTime": {
     "end_time": "2024-05-30T12:51:06.627528Z",
     "start_time": "2024-05-30T12:51:06.623085Z"
    }
   },
   "cell_type": "code",
   "source": [
    "import numpy as np\n",
    "np_array = np.zeros((5, 5))\n",
    "tensor = torch.from_numpy(np_array)\n",
    "np_array_back = tensor.numpy()"
   ],
   "id": "2159752e0846044c",
   "outputs": [],
   "execution_count": 17
  }
 ],
 "metadata": {
  "kernelspec": {
   "display_name": "Python 3",
   "language": "python",
   "name": "python3"
  },
  "language_info": {
   "codemirror_mode": {
    "name": "ipython",
    "version": 2
   },
   "file_extension": ".py",
   "mimetype": "text/x-python",
   "name": "python",
   "nbconvert_exporter": "python",
   "pygments_lexer": "ipython2",
   "version": "2.7.6"
  }
 },
 "nbformat": 4,
 "nbformat_minor": 5
}
