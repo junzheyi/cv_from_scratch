{
 "cells": [
  {
   "metadata": {},
   "cell_type": "markdown",
   "source": "## initializing tensor creation",
   "id": "59acc3df4ccd2fb7"
  },
  {
   "metadata": {},
   "cell_type": "markdown",
   "source": "#### 1. from list",
   "id": "427a3ead7670b870"
  },
  {
   "metadata": {
    "ExecuteTime": {
     "end_time": "2024-05-30T08:31:09.342315Z",
     "start_time": "2024-05-30T08:31:07.844042Z"
    }
   },
   "cell_type": "code",
   "source": [
    "import torch\n",
    "device = \"cuda\" if torch.cuda.is_available() else \"cpu\""
   ],
   "id": "12c010f44350e5e9",
   "outputs": [],
   "execution_count": 1
  },
  {
   "metadata": {
    "ExecuteTime": {
     "end_time": "2024-05-30T08:31:37.073638Z",
     "start_time": "2024-05-30T08:31:37.069283Z"
    }
   },
   "cell_type": "code",
   "source": [
    "my_tensor = torch.tensor([[1, 2, 3], [4, 5, 6], [7, 8, 9]])\n",
    "print(my_tensor)"
   ],
   "id": "initial_id",
   "outputs": [
    {
     "name": "stdout",
     "output_type": "stream",
     "text": [
      "tensor([[1, 2, 3],\n",
      "        [4, 5, 6],\n",
      "        [7, 8, 9]])\n"
     ]
    }
   ],
   "execution_count": 5
  },
  {
   "metadata": {
    "ExecuteTime": {
     "end_time": "2024-05-30T08:31:38.657636Z",
     "start_time": "2024-05-30T08:31:38.652547Z"
    }
   },
   "cell_type": "code",
   "source": [
    "my_tensor2 = torch.tensor([(1, 2, 3), (4, 5, 6), (7, 8, 9)])\n",
    "print(my_tensor2)"
   ],
   "id": "8b809c48610743b",
   "outputs": [
    {
     "name": "stdout",
     "output_type": "stream",
     "text": [
      "tensor([[1, 2, 3],\n",
      "        [4, 5, 6],\n",
      "        [7, 8, 9]])\n"
     ]
    }
   ],
   "execution_count": 6
  },
  {
   "metadata": {},
   "cell_type": "markdown",
   "source": "无论是列表还是元组，torch.tensor都会将它们转换为张量，所以my_tensor和my_tensor2的结果是相同的。",
   "id": "39e373720751dfbe"
  },
  {
   "metadata": {
    "ExecuteTime": {
     "end_time": "2024-05-30T08:31:44.921818Z",
     "start_time": "2024-05-30T08:31:44.916465Z"
    }
   },
   "cell_type": "code",
   "source": [
    "print(my_tensor.device)\n",
    "print(my_tensor2.device)\n",
    "print(my_tensor.dtype)\n",
    "my_tensor2 = torch.tensor([(1, 2, 3), (4, 5, 6), (7, 8, 9)],dtype=torch.float32, device=device)\n",
    "print(my_tensor2.device)\n",
    "print(my_tensor2.dtype)"
   ],
   "id": "7a3144a7c5e138dc",
   "outputs": [
    {
     "name": "stdout",
     "output_type": "stream",
     "text": [
      "cpu\n",
      "cpu\n",
      "torch.int64\n",
      "cpu\n",
      "torch.float32\n"
     ]
    }
   ],
   "execution_count": 7
  },
  {
   "metadata": {},
   "cell_type": "markdown",
   "source": "### 其他初始化的方法",
   "id": "fad974cdd94963a0"
  },
  {
   "metadata": {
    "ExecuteTime": {
     "end_time": "2024-05-30T08:32:59.470727Z",
     "start_time": "2024-05-30T08:32:59.466645Z"
    }
   },
   "cell_type": "code",
   "source": [
    "x = torch.empty(size=(3, 3))\n",
    "print(x)"
   ],
   "id": "6c625301c5de08dd",
   "outputs": [
    {
     "name": "stdout",
     "output_type": "stream",
     "text": [
      "tensor([[0., 0., 0.],\n",
      "        [0., 0., 0.],\n",
      "        [0., 0., 0.]])\n"
     ]
    }
   ],
   "execution_count": 8
  },
  {
   "metadata": {
    "ExecuteTime": {
     "end_time": "2024-05-30T08:33:06.802369Z",
     "start_time": "2024-05-30T08:33:06.797910Z"
    }
   },
   "cell_type": "code",
   "source": [
    "x = torch.zeros((3, 3))\n",
    "print(x)"
   ],
   "id": "215f5f4b1526ca21",
   "outputs": [
    {
     "name": "stdout",
     "output_type": "stream",
     "text": [
      "tensor([[0., 0., 0.],\n",
      "        [0., 0., 0.],\n",
      "        [0., 0., 0.]])\n"
     ]
    }
   ],
   "execution_count": 9
  },
  {
   "metadata": {
    "ExecuteTime": {
     "end_time": "2024-05-30T08:33:20.449211Z",
     "start_time": "2024-05-30T08:33:20.443700Z"
    }
   },
   "cell_type": "code",
   "source": [
    "x = torch.ones((3, 3))\n",
    "print(x)"
   ],
   "id": "a707120d97ed5995",
   "outputs": [
    {
     "name": "stdout",
     "output_type": "stream",
     "text": [
      "tensor([[1., 1., 1.],\n",
      "        [1., 1., 1.],\n",
      "        [1., 1., 1.]])\n"
     ]
    }
   ],
   "execution_count": 10
  },
  {
   "metadata": {
    "ExecuteTime": {
     "end_time": "2024-05-30T08:33:58.219532Z",
     "start_time": "2024-05-30T08:33:58.215541Z"
    }
   },
   "cell_type": "code",
   "source": [
    "x = torch.eye(5, 5)\n",
    "print(x)"
   ],
   "id": "ff69ab0172b0a152",
   "outputs": [
    {
     "name": "stdout",
     "output_type": "stream",
     "text": [
      "tensor([[1., 0., 0., 0., 0.],\n",
      "        [0., 1., 0., 0., 0.],\n",
      "        [0., 0., 1., 0., 0.],\n",
      "        [0., 0., 0., 1., 0.],\n",
      "        [0., 0., 0., 0., 1.]])\n"
     ]
    }
   ],
   "execution_count": 11
  },
  {
   "metadata": {
    "ExecuteTime": {
     "end_time": "2024-05-30T08:34:05.027088Z",
     "start_time": "2024-05-30T08:34:05.022493Z"
    }
   },
   "cell_type": "code",
   "source": [
    "x = torch.rand((3, 3))\n",
    "print(x)"
   ],
   "id": "604ec541053ffc81",
   "outputs": [
    {
     "name": "stdout",
     "output_type": "stream",
     "text": [
      "tensor([[0.6798, 0.2548, 0.4269],\n",
      "        [0.9130, 0.0601, 0.1101],\n",
      "        [0.9192, 0.9208, 0.9870]])\n"
     ]
    }
   ],
   "execution_count": 12
  },
  {
   "metadata": {
    "ExecuteTime": {
     "end_time": "2024-05-30T08:39:29.201274Z",
     "start_time": "2024-05-30T08:39:29.194673Z"
    }
   },
   "cell_type": "code",
   "source": [
    "x = torch.arange(7)\n",
    "print(x)\n",
    "x = torch.arange(1, 7)\n",
    "print(x)\n",
    "x = torch.arange(1, 7, 2)\n",
    "print(x)\n",
    "x = torch.arange(0, 5, 1)\n",
    "print(x)\n",
    "x = torch.arange(start=0, end=5, step=1)\n",
    "print(x)"
   ],
   "id": "7a1be8f745fd551d",
   "outputs": [
    {
     "name": "stdout",
     "output_type": "stream",
     "text": [
      "tensor([0, 1, 2, 3, 4, 5, 6])\n",
      "tensor([1, 2, 3, 4, 5, 6])\n",
      "tensor([1, 3, 5])\n",
      "tensor([0, 1, 2, 3, 4])\n",
      "tensor([0, 1, 2, 3, 4])\n"
     ]
    }
   ],
   "execution_count": 19
  },
  {
   "metadata": {
    "ExecuteTime": {
     "end_time": "2024-05-30T08:42:56.029429Z",
     "start_time": "2024-05-30T08:42:56.024542Z"
    }
   },
   "cell_type": "code",
   "source": [
    "x = torch.linspace(0.1, 1, 10)\n",
    "print(x)\n",
    "x = torch.linspace(start=0.1, end = 1, steps=10)\n",
    "print(x)"
   ],
   "id": "133d874b5fddefd7",
   "outputs": [
    {
     "name": "stdout",
     "output_type": "stream",
     "text": [
      "tensor([0.1000, 0.2000, 0.3000, 0.4000, 0.5000, 0.6000, 0.7000, 0.8000, 0.9000,\n",
      "        1.0000])\n",
      "tensor([0.1000, 0.2000, 0.3000, 0.4000, 0.5000, 0.6000, 0.7000, 0.8000, 0.9000,\n",
      "        1.0000])\n"
     ]
    }
   ],
   "execution_count": 20
  },
  {
   "metadata": {},
   "cell_type": "code",
   "outputs": [
    {
     "name": "stdout",
     "output_type": "stream",
     "text": [
      "tensor([[3.3379e-19, 2.0627e-42, 1.2510e+00, 5.6440e-01, 1.2589e+00]])\n",
      "tensor([[-1.6324, -1.1654, -0.3108,  0.0311, -0.8756]])\n"
     ]
    }
   ],
   "execution_count": 25,
   "source": [
    "x = torch.empty(size=(1, 5))\n",
    "print(x)\n",
    "x = x.normal_(mean=0, std=1)\n",
    "print(x)"
   ],
   "id": "de85eee66230b1c2"
  },
  {
   "metadata": {
    "ExecuteTime": {
     "end_time": "2024-05-30T08:50:03.980268Z",
     "start_time": "2024-05-30T08:50:03.976208Z"
    }
   },
   "cell_type": "code",
   "source": [
    "# or\n",
    "x = torch.empty(size=(1, 5)).normal_(mean=0, std=1)\n",
    "print(x)"
   ],
   "id": "97dd086e959198e",
   "outputs": [
    {
     "name": "stdout",
     "output_type": "stream",
     "text": [
      "tensor([[-2.2044, -1.0554, -0.4640, -1.4450,  0.3493]])\n"
     ]
    }
   ],
   "execution_count": 27
  },
  {
   "metadata": {
    "ExecuteTime": {
     "end_time": "2024-05-30T08:50:50.599179Z",
     "start_time": "2024-05-30T08:50:50.594633Z"
    }
   },
   "cell_type": "code",
   "source": [
    "# 用区间[0, 1]的均匀分布填充张量\n",
    "x = torch.empty(size=(1, 5)).uniform_(0, 1)\n",
    "print(x)"
   ],
   "id": "2170f1f5513f8d80",
   "outputs": [
    {
     "name": "stdout",
     "output_type": "stream",
     "text": [
      "tensor([[0.0464, 0.3109, 0.2959, 0.1076, 0.2343]])\n"
     ]
    }
   ],
   "execution_count": 28
  },
  {
   "metadata": {
    "ExecuteTime": {
     "end_time": "2024-05-30T08:53:28.022025Z",
     "start_time": "2024-05-30T08:53:28.018212Z"
    }
   },
   "cell_type": "code",
   "source": [
    "x = torch.diag(torch.ones(3))\n",
    "print(x)"
   ],
   "id": "538e1cca43bc83fa",
   "outputs": [
    {
     "name": "stdout",
     "output_type": "stream",
     "text": [
      "tensor([[1., 0., 0.],\n",
      "        [0., 1., 0.],\n",
      "        [0., 0., 1.]])\n"
     ]
    }
   ],
   "execution_count": 29
  },
  {
   "metadata": {},
   "cell_type": "code",
   "outputs": [],
   "execution_count": null,
   "source": "",
   "id": "af9fe58a8472c615"
  }
 ],
 "metadata": {
  "kernelspec": {
   "display_name": "Python 3",
   "language": "python",
   "name": "python3"
  },
  "language_info": {
   "codemirror_mode": {
    "name": "ipython",
    "version": 2
   },
   "file_extension": ".py",
   "mimetype": "text/x-python",
   "name": "python",
   "nbconvert_exporter": "python",
   "pygments_lexer": "ipython2",
   "version": "2.7.6"
  }
 },
 "nbformat": 4,
 "nbformat_minor": 5
}
