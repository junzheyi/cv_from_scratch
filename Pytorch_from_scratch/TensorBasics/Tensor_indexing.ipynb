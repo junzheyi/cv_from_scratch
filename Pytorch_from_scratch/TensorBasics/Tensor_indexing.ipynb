{
 "cells": [
  {
   "metadata": {},
   "cell_type": "markdown",
   "source": "# tensor indexing",
   "id": "159b7cdb759289e2"
  },
  {
   "metadata": {
    "ExecuteTime": {
     "end_time": "2024-06-24T07:29:06.432514Z",
     "start_time": "2024-06-24T07:28:52.587246Z"
    }
   },
   "cell_type": "code",
   "source": [
    "import torch\n",
    "batch_size = 10\n",
    "features = 25\n",
    "x = torch.rand((batch_size, features))\n",
    "\n",
    "print(x[0].shape)"
   ],
   "id": "36c4beef808ab1dc",
   "outputs": [
    {
     "name": "stdout",
     "output_type": "stream",
     "text": [
      "torch.Size([25])\n"
     ]
    }
   ],
   "execution_count": 1
  },
  {
   "metadata": {
    "ExecuteTime": {
     "end_time": "2024-06-24T07:29:35.207553Z",
     "start_time": "2024-06-24T07:29:35.201802Z"
    }
   },
   "cell_type": "code",
   "source": "print(x[:, 0].shape)",
   "id": "8ac323963e3586c7",
   "outputs": [
    {
     "name": "stdout",
     "output_type": "stream",
     "text": [
      "torch.Size([10])\n"
     ]
    }
   ],
   "execution_count": 2
  },
  {
   "metadata": {
    "ExecuteTime": {
     "end_time": "2024-06-24T07:29:39.656123Z",
     "start_time": "2024-06-24T07:29:39.651209Z"
    }
   },
   "cell_type": "code",
   "source": "print(x[2, 0:10])",
   "id": "146db76822d39b0a",
   "outputs": [
    {
     "name": "stdout",
     "output_type": "stream",
     "text": [
      "tensor([4.3858e-01, 8.8003e-01, 1.9867e-01, 4.1061e-01, 6.8155e-01, 5.7185e-01,\n",
      "        6.4947e-01, 8.7708e-04, 9.5885e-01, 2.8283e-01])\n"
     ]
    }
   ],
   "execution_count": 3
  },
  {
   "metadata": {
    "ExecuteTime": {
     "end_time": "2024-06-24T07:30:06.277785Z",
     "start_time": "2024-06-24T07:30:06.273189Z"
    }
   },
   "cell_type": "code",
   "source": [
    "x[0, 0] = 100\n",
    "print(x[0, 0])"
   ],
   "id": "9b7a5cc04c9d9bb",
   "outputs": [
    {
     "name": "stdout",
     "output_type": "stream",
     "text": [
      "tensor(100.)\n"
     ]
    }
   ],
   "execution_count": 4
  },
  {
   "metadata": {},
   "cell_type": "markdown",
   "source": "### fancy indexing ",
   "id": "8f28ad2a36fe7558"
  },
  {
   "metadata": {
    "ExecuteTime": {
     "end_time": "2024-06-24T07:31:32.799173Z",
     "start_time": "2024-06-24T07:31:32.794490Z"
    }
   },
   "cell_type": "code",
   "source": [
    "x = torch.arange(10)\n",
    "print(x)\n",
    "indices = [2, 5, 8]\n",
    "print(x[indices])\n"
   ],
   "id": "ce5b66546d322b8d",
   "outputs": [
    {
     "name": "stdout",
     "output_type": "stream",
     "text": [
      "tensor([0, 1, 2, 3, 4, 5, 6, 7, 8, 9])\n",
      "tensor([2, 5, 8])\n"
     ]
    }
   ],
   "execution_count": 5
  },
  {
   "metadata": {
    "ExecuteTime": {
     "end_time": "2024-06-24T07:34:33.644964Z",
     "start_time": "2024-06-24T07:34:33.638425Z"
    }
   },
   "cell_type": "code",
   "source": [
    "x = torch.rand((3, 5))\n",
    "print(x)\n",
    "rows = torch.tensor([1, 0])\n",
    "cols = torch.tensor([4, 0])\n",
    "print(x[rows, cols])"
   ],
   "id": "5ab0efd65e062e36",
   "outputs": [
    {
     "name": "stdout",
     "output_type": "stream",
     "text": [
      "tensor([[0.7268, 0.4033, 0.5628, 0.0978, 0.8711],\n",
      "        [0.2708, 0.7218, 0.7818, 0.1173, 0.2985],\n",
      "        [0.9839, 0.9996, 0.0686, 0.1075, 0.5857]])\n",
      "tensor([0.2985, 0.7268])\n"
     ]
    }
   ],
   "execution_count": 6
  },
  {
   "metadata": {
    "ExecuteTime": {
     "end_time": "2024-06-24T07:36:06.113869Z",
     "start_time": "2024-06-24T07:36:06.108324Z"
    }
   },
   "cell_type": "code",
   "source": [
    "rows = torch.tensor([1, 2, 0])\n",
    "cols = torch.tensor([4, 0, 2])\n",
    "print(x[rows, cols])"
   ],
   "id": "5eca3e39503cb384",
   "outputs": [
    {
     "name": "stdout",
     "output_type": "stream",
     "text": [
      "tensor([0.2985, 0.9839, 0.5628])\n"
     ]
    }
   ],
   "execution_count": 7
  },
  {
   "metadata": {},
   "cell_type": "markdown",
   "source": "rows and cols pick the elements from the tensor and create a new tensor, in the above example, the new tensor is of size 3",
   "id": "1d7f903b67056881"
  },
  {
   "metadata": {
    "ExecuteTime": {
     "end_time": "2024-06-24T07:39:10.728649Z",
     "start_time": "2024-06-24T07:39:10.724924Z"
    }
   },
   "cell_type": "code",
   "source": "print(x[rows, cols].shape)",
   "id": "61ee51f2255bde7a",
   "outputs": [
    {
     "name": "stdout",
     "output_type": "stream",
     "text": [
      "torch.Size([3])\n"
     ]
    }
   ],
   "execution_count": 8
  },
  {
   "metadata": {},
   "cell_type": "markdown",
   "source": "there is three elements",
   "id": "e8a9b74b56ccf2f5"
  },
  {
   "metadata": {},
   "cell_type": "markdown",
   "source": "### more advanced indexing ",
   "id": "ef8c86700d7b3fb5"
  },
  {
   "metadata": {
    "ExecuteTime": {
     "end_time": "2024-06-24T07:41:31.973979Z",
     "start_time": "2024-06-24T07:41:31.969080Z"
    }
   },
   "cell_type": "code",
   "source": [
    "x = torch.arange (10)\n",
    "print(x)\n",
    "print(x[(x < 2) | (x > 8)])"
   ],
   "id": "19fbc00d371e6b54",
   "outputs": [
    {
     "name": "stdout",
     "output_type": "stream",
     "text": [
      "tensor([0, 1, 2, 3, 4, 5, 6, 7, 8, 9])\n",
      "tensor([0, 1, 9])\n"
     ]
    }
   ],
   "execution_count": 9
  },
  {
   "metadata": {
    "ExecuteTime": {
     "end_time": "2024-06-24T07:41:55.444978Z",
     "start_time": "2024-06-24T07:41:55.440362Z"
    }
   },
   "cell_type": "code",
   "source": "print(x[(x < 2) & (x > 8)])",
   "id": "d79ef32dd7c8d4b6",
   "outputs": [
    {
     "name": "stdout",
     "output_type": "stream",
     "text": [
      "tensor([], dtype=torch.int64)\n"
     ]
    }
   ],
   "execution_count": 10
  },
  {
   "metadata": {
    "ExecuteTime": {
     "end_time": "2024-06-24T07:42:30.230576Z",
     "start_time": "2024-06-24T07:42:30.226844Z"
    }
   },
   "cell_type": "code",
   "source": "print(x[(x < 8) & (x > 2)])",
   "id": "479703f4d8aa1c67",
   "outputs": [
    {
     "name": "stdout",
     "output_type": "stream",
     "text": [
      "tensor([3, 4, 5, 6, 7])\n"
     ]
    }
   ],
   "execution_count": 11
  },
  {
   "metadata": {
    "ExecuteTime": {
     "end_time": "2024-06-24T07:43:02.233398Z",
     "start_time": "2024-06-24T07:43:02.228485Z"
    }
   },
   "cell_type": "code",
   "source": "print(x[x.remainder(2) == 0])",
   "id": "65efda83585bc585",
   "outputs": [
    {
     "name": "stdout",
     "output_type": "stream",
     "text": [
      "tensor([0, 2, 4, 6, 8])\n"
     ]
    }
   ],
   "execution_count": 12
  },
  {
   "metadata": {},
   "cell_type": "markdown",
   "source": "### useful operations",
   "id": "3e7efe7f42ea16b0"
  },
  {
   "metadata": {
    "ExecuteTime": {
     "end_time": "2024-06-24T07:45:21.723099Z",
     "start_time": "2024-06-24T07:45:21.718607Z"
    }
   },
   "cell_type": "code",
   "source": "print(torch.where(x > 5, x , x*2))",
   "id": "bdb9ebe6c234af0d",
   "outputs": [
    {
     "name": "stdout",
     "output_type": "stream",
     "text": [
      "tensor([ 0,  2,  4,  6,  8, 10,  6,  7,  8,  9])\n"
     ]
    }
   ],
   "execution_count": 13
  },
  {
   "metadata": {
    "ExecuteTime": {
     "end_time": "2024-06-24T07:47:00.809369Z",
     "start_time": "2024-06-24T07:47:00.803758Z"
    }
   },
   "cell_type": "code",
   "source": [
    "x = torch.tensor([1, 2, 3, 4, 5])\n",
    "y = torch.tensor([6, 7, 8, 9, 10])\n",
    "\n",
    "print(torch.tensor([x[i] if x[i] > y[i] else y[i] for i in range(len(x))]))"
   ],
   "id": "6f95f25a6c21d1e1",
   "outputs": [
    {
     "name": "stdout",
     "output_type": "stream",
     "text": [
      "tensor([ 6,  7,  8,  9, 10])\n"
     ]
    }
   ],
   "execution_count": 14
  },
  {
   "metadata": {
    "ExecuteTime": {
     "end_time": "2024-06-24T07:48:17.741064Z",
     "start_time": "2024-06-24T07:48:17.737412Z"
    }
   },
   "cell_type": "code",
   "source": [
    "x = torch.tensor([1, 8, 9, 4, 5])\n",
    "y = torch.tensor([6, 7, 8, 9, 10])\n",
    "\n",
    "condition = x > y\n",
    "result = torch.where(condition, x, y)\n",
    "print(result)"
   ],
   "id": "c07c0140ee920a94",
   "outputs": [
    {
     "name": "stdout",
     "output_type": "stream",
     "text": [
      "tensor([ 6,  8,  9,  9, 10])\n"
     ]
    }
   ],
   "execution_count": 15
  },
  {
   "metadata": {
    "ExecuteTime": {
     "end_time": "2024-06-24T07:50:49.744663Z",
     "start_time": "2024-06-24T07:50:49.740462Z"
    }
   },
   "cell_type": "code",
   "source": [
    "x = torch.tensor([0, 2, 2, 2, 3, 4, 5, 5, 5, 6, 7, 8, 8, 9])\n",
    "unique = x.unique()\n",
    "print(unique)"
   ],
   "id": "7d586567e5f12285",
   "outputs": [
    {
     "name": "stdout",
     "output_type": "stream",
     "text": [
      "tensor([0, 2, 3, 4, 5, 6, 7, 8, 9])\n"
     ]
    }
   ],
   "execution_count": 17
  },
  {
   "metadata": {
    "ExecuteTime": {
     "end_time": "2024-06-24T07:51:37.215982Z",
     "start_time": "2024-06-24T07:51:37.211749Z"
    }
   },
   "cell_type": "code",
   "source": "print(x.ndimension())",
   "id": "78c93f8e0c6a9192",
   "outputs": [
    {
     "name": "stdout",
     "output_type": "stream",
     "text": [
      "1\n"
     ]
    }
   ],
   "execution_count": 18
  },
  {
   "metadata": {
    "ExecuteTime": {
     "end_time": "2024-06-24T07:51:56.495542Z",
     "start_time": "2024-06-24T07:51:56.491345Z"
    }
   },
   "cell_type": "code",
   "source": "print(x.numel())",
   "id": "1a5883b0e383dc5c",
   "outputs": [
    {
     "name": "stdout",
     "output_type": "stream",
     "text": [
      "14\n"
     ]
    }
   ],
   "execution_count": 19
  },
  {
   "metadata": {
    "ExecuteTime": {
     "end_time": "2024-06-24T07:53:12.992577Z",
     "start_time": "2024-06-24T07:53:12.696124Z"
    }
   },
   "cell_type": "code",
   "source": "print(x.numel(2))",
   "id": "357f98f68f8faff6",
   "outputs": [
    {
     "ename": "TypeError",
     "evalue": "TensorBase.numel() takes no arguments (1 given)",
     "output_type": "error",
     "traceback": [
      "\u001B[1;31m---------------------------------------------------------------------------\u001B[0m",
      "\u001B[1;31mTypeError\u001B[0m                                 Traceback (most recent call last)",
      "Cell \u001B[1;32mIn[20], line 1\u001B[0m\n\u001B[1;32m----> 1\u001B[0m \u001B[38;5;28mprint\u001B[39m(x\u001B[38;5;241m.\u001B[39mnumel(\u001B[38;5;241m2\u001B[39m))\n",
      "\u001B[1;31mTypeError\u001B[0m: TensorBase.numel() takes no arguments (1 given)"
     ]
    }
   ],
   "execution_count": 20
  },
  {
   "metadata": {},
   "cell_type": "markdown",
   "source": "from above we can see `torch.numel()` takes no arguments, and `torch.numel(2)` throws an error, `numel()` returns the number of whole elements in the tensor",
   "id": "c04f7d5eb24aa7f3"
  }
 ],
 "metadata": {
  "kernelspec": {
   "display_name": "Python 3",
   "language": "python",
   "name": "python3"
  },
  "language_info": {
   "codemirror_mode": {
    "name": "ipython",
    "version": 2
   },
   "file_extension": ".py",
   "mimetype": "text/x-python",
   "name": "python",
   "nbconvert_exporter": "python",
   "pygments_lexer": "ipython2",
   "version": "2.7.6"
  }
 },
 "nbformat": 4,
 "nbformat_minor": 5
}
