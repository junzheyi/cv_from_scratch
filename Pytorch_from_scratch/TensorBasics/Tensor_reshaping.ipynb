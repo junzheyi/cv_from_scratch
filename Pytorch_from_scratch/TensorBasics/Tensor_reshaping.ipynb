{
 "cells": [
  {
   "metadata": {},
   "cell_type": "markdown",
   "source": "### tensor reshaping ",
   "id": "717d305f57602662"
  },
  {
   "metadata": {},
   "cell_type": "markdown",
   "source": "",
   "id": "16531a35b5eddff9"
  },
  {
   "metadata": {
    "ExecuteTime": {
     "end_time": "2024-06-24T08:00:17.583312Z",
     "start_time": "2024-06-24T08:00:15.990357Z"
    }
   },
   "cell_type": "code",
   "source": [
    "import torch\n",
    "x = torch.arange(9)\n",
    "x_3x3 = x.view(3,3)\n",
    "print(x_3x3)\n",
    "print(x_3x3.shape)\n",
    "print(x)\n",
    "print(x.shape)"
   ],
   "id": "8d8302fbff576c00",
   "outputs": [
    {
     "name": "stdout",
     "output_type": "stream",
     "text": [
      "tensor([[0, 1, 2],\n",
      "        [3, 4, 5],\n",
      "        [6, 7, 8]])\n",
      "torch.Size([3, 3])\n",
      "tensor([0, 1, 2, 3, 4, 5, 6, 7, 8])\n",
      "torch.Size([9])\n"
     ]
    }
   ],
   "execution_count": 1
  },
  {
   "metadata": {},
   "cell_type": "markdown",
   "source": "create a new copy of the tensor and don't change the original tensor",
   "id": "210b3a2200571d7"
  },
  {
   "metadata": {
    "ExecuteTime": {
     "end_time": "2024-06-24T08:02:23.111431Z",
     "start_time": "2024-06-24T08:02:23.105889Z"
    }
   },
   "cell_type": "code",
   "source": [
    "x_3x3_1 = x.reshape(3,3)\n",
    "print(x_3x3_1)\n",
    "print(x_3x3_1.shape)\n",
    "print(x)\n",
    "print(x.shape)"
   ],
   "id": "c7f4e18b2b1d74cc",
   "outputs": [
    {
     "name": "stdout",
     "output_type": "stream",
     "text": [
      "tensor([[0, 1, 2],\n",
      "        [3, 4, 5],\n",
      "        [6, 7, 8]])\n",
      "torch.Size([3, 3])\n",
      "tensor([0, 1, 2, 3, 4, 5, 6, 7, 8])\n",
      "torch.Size([9])\n"
     ]
    }
   ],
   "execution_count": 2
  },
  {
   "metadata": {},
   "cell_type": "markdown",
   "source": "from above we can see the effect of view and reshape is same. the difference is view is a shallow copy and reshape is a deep copy.总结一下，现在还不用搞懂原理，就是view能干的reshape都能干，但是view不能干的reshape也能干，所以一般用view就行了。",
   "id": "41068c8cd22fe66d"
  },
  {
   "metadata": {
    "ExecuteTime": {
     "end_time": "2024-06-24T08:50:37.020011Z",
     "start_time": "2024-06-24T08:50:36.985259Z"
    }
   },
   "cell_type": "code",
   "source": [
    "x1 = torch.rand(2,5)\n",
    "x2 = torch.rand(2,5)\n",
    "print(torch.cat((x1,x2),dim=0).shape)\n",
    "print(torch.cat((x1,x2),dim=1).shape)"
   ],
   "id": "57afd7b1c59edb89",
   "outputs": [
    {
     "name": "stdout",
     "output_type": "stream",
     "text": [
      "torch.Size([4, 5])\n",
      "torch.Size([2, 10])\n"
     ]
    }
   ],
   "execution_count": 3
  },
  {
   "metadata": {
    "ExecuteTime": {
     "end_time": "2024-06-24T08:51:35.004535Z",
     "start_time": "2024-06-24T08:51:34.999991Z"
    }
   },
   "cell_type": "code",
   "source": [
    "z = x1.view(-1)\n",
    "print(z.shape)"
   ],
   "id": "49d4a3b47adc1216",
   "outputs": [
    {
     "name": "stdout",
     "output_type": "stream",
     "text": [
      "torch.Size([10])\n"
     ]
    }
   ],
   "execution_count": 4
  },
  {
   "metadata": {
    "ExecuteTime": {
     "end_time": "2024-06-24T08:56:24.428183Z",
     "start_time": "2024-06-24T08:56:24.421858Z"
    }
   },
   "cell_type": "code",
   "source": [
    "batch = 64\n",
    "x = torch.rand((batch,2,5))\n",
    "z = x.view(batch,-1)\n",
    "print(z.shape)"
   ],
   "id": "af42ea89e2a9177f",
   "outputs": [
    {
     "name": "stdout",
     "output_type": "stream",
     "text": [
      "torch.Size([64, 10])\n"
     ]
    }
   ],
   "execution_count": 5
  },
  {
   "metadata": {
    "ExecuteTime": {
     "end_time": "2024-06-24T08:56:46.456446Z",
     "start_time": "2024-06-24T08:56:46.448010Z"
    }
   },
   "cell_type": "code",
   "source": [
    "z = x.permute(0,2,1)\n",
    "print(z.shape)"
   ],
   "id": "216459398db0e6f7",
   "outputs": [
    {
     "name": "stdout",
     "output_type": "stream",
     "text": [
      "torch.Size([64, 5, 2])\n"
     ]
    }
   ],
   "execution_count": 6
  },
  {
   "metadata": {},
   "cell_type": "markdown",
   "source": "转置可以用`.t()`方法，维度更高时用permute函数",
   "id": "e94b8732d516d9d5"
  },
  {
   "metadata": {
    "ExecuteTime": {
     "end_time": "2024-06-24T09:15:11.354411Z",
     "start_time": "2024-06-24T09:15:11.348275Z"
    }
   },
   "cell_type": "code",
   "source": [
    "x = torch.arange(10)\n",
    "print(x.unsqueeze(0).shape)\n",
    "print(x.unsqueeze(1).shape)"
   ],
   "id": "8b1c298524fdff06",
   "outputs": [
    {
     "name": "stdout",
     "output_type": "stream",
     "text": [
      "torch.Size([1, 10])\n",
      "torch.Size([10, 1])\n"
     ]
    }
   ],
   "execution_count": 7
  },
  {
   "metadata": {
    "ExecuteTime": {
     "end_time": "2024-06-24T09:16:15.030544Z",
     "start_time": "2024-06-24T09:16:15.026029Z"
    }
   },
   "cell_type": "code",
   "source": [
    "x = torch.arange(10).unsqueeze(0).unsqueeze(1)\n",
    "print(x.shape)"
   ],
   "id": "e4e21d45c06a1b47",
   "outputs": [
    {
     "name": "stdout",
     "output_type": "stream",
     "text": [
      "torch.Size([1, 1, 10])\n"
     ]
    }
   ],
   "execution_count": 8
  },
  {
   "metadata": {
    "ExecuteTime": {
     "end_time": "2024-06-24T09:16:38.094057Z",
     "start_time": "2024-06-24T09:16:38.086479Z"
    }
   },
   "cell_type": "code",
   "source": [
    "z = x.squeeze(1)\n",
    "print(z.shape)"
   ],
   "id": "81425afcb66c8808",
   "outputs": [
    {
     "name": "stdout",
     "output_type": "stream",
     "text": [
      "torch.Size([1, 10])\n"
     ]
    }
   ],
   "execution_count": 9
  }
 ],
 "metadata": {
  "kernelspec": {
   "display_name": "Python 3",
   "language": "python",
   "name": "python3"
  },
  "language_info": {
   "codemirror_mode": {
    "name": "ipython",
    "version": 2
   },
   "file_extension": ".py",
   "mimetype": "text/x-python",
   "name": "python",
   "nbconvert_exporter": "python",
   "pygments_lexer": "ipython2",
   "version": "2.7.6"
  }
 },
 "nbformat": 4,
 "nbformat_minor": 5
}
