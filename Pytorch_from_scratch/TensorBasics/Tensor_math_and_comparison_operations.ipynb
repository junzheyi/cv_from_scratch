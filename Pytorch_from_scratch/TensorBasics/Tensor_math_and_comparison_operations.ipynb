{
 "cells": [
  {
   "metadata": {},
   "cell_type": "markdown",
   "source": "# Tensor Math and Comparison Operations",
   "id": "92e21f0fdb5da6b3"
  },
  {
   "cell_type": "code",
   "id": "initial_id",
   "metadata": {
    "collapsed": true,
    "ExecuteTime": {
     "end_time": "2024-06-13T10:55:15.870110Z",
     "start_time": "2024-06-13T10:55:03.348033Z"
    }
   },
   "source": [
    "import torch\n",
    "x = torch.tensor([1, 2, 3])\n",
    "y = torch.tensor([9, 8, 7])\n",
    "\n",
    "# Addition\n",
    "z1 = torch.empty(3)\n",
    "torch.add(x, y, out=z1)\n",
    "print(z1)"
   ],
   "outputs": [
    {
     "name": "stdout",
     "output_type": "stream",
     "text": [
      "tensor([10., 10., 10.])\n"
     ]
    }
   ],
   "execution_count": 2
  },
  {
   "metadata": {
    "ExecuteTime": {
     "end_time": "2024-06-13T10:55:15.875074Z",
     "start_time": "2024-06-13T10:55:15.871117Z"
    }
   },
   "cell_type": "code",
   "source": [
    "# or another way\n",
    "z2 = torch.add(x, y)\n",
    "print(z2)"
   ],
   "id": "cd9a6e0f2ad12a56",
   "outputs": [
    {
     "name": "stdout",
     "output_type": "stream",
     "text": [
      "tensor([10, 10, 10])\n"
     ]
    }
   ],
   "execution_count": 3
  },
  {
   "metadata": {
    "ExecuteTime": {
     "end_time": "2024-06-13T10:55:15.884739Z",
     "start_time": "2024-06-13T10:55:15.876082Z"
    }
   },
   "cell_type": "code",
   "source": [
    "# or another way\n",
    "z = x + y\n",
    "print(z)"
   ],
   "id": "c724f114e2692805",
   "outputs": [
    {
     "name": "stdout",
     "output_type": "stream",
     "text": [
      "tensor([10, 10, 10])\n"
     ]
    }
   ],
   "execution_count": 4
  },
  {
   "metadata": {},
   "cell_type": "markdown",
   "source": "### subtraction",
   "id": "784acd7992d7a0d9"
  },
  {
   "metadata": {
    "ExecuteTime": {
     "end_time": "2024-06-13T10:55:15.892325Z",
     "start_time": "2024-06-13T10:55:15.886745Z"
    }
   },
   "cell_type": "code",
   "source": [
    "z = x - y\n",
    "print(z)"
   ],
   "id": "f1d5ce6e96245540",
   "outputs": [
    {
     "name": "stdout",
     "output_type": "stream",
     "text": [
      "tensor([-8, -6, -4])\n"
     ]
    }
   ],
   "execution_count": 5
  },
  {
   "metadata": {},
   "cell_type": "markdown",
   "source": "### Division",
   "id": "3d50949faf8259f7"
  },
  {
   "metadata": {
    "ExecuteTime": {
     "end_time": "2024-06-13T10:55:15.899069Z",
     "start_time": "2024-06-13T10:55:15.893331Z"
    }
   },
   "cell_type": "code",
   "source": [
    "z = torch.true_divide(x, y)\n",
    "print(z)"
   ],
   "id": "845c1714e695faf9",
   "outputs": [
    {
     "name": "stdout",
     "output_type": "stream",
     "text": [
      "tensor([0.1111, 0.2500, 0.4286])\n"
     ]
    }
   ],
   "execution_count": 6
  },
  {
   "metadata": {},
   "cell_type": "markdown",
   "source": "### Inplace Operations",
   "id": "5edf1ca031c4efdd"
  },
  {
   "metadata": {
    "ExecuteTime": {
     "end_time": "2024-06-13T10:55:15.905883Z",
     "start_time": "2024-06-13T10:55:15.900100Z"
    }
   },
   "cell_type": "code",
   "source": [
    "t = torch.zeros(3)\n",
    "t.add_(x)\n",
    "print(t)"
   ],
   "id": "6bd52e4ea40e5943",
   "outputs": [
    {
     "name": "stdout",
     "output_type": "stream",
     "text": [
      "tensor([1., 2., 3.])\n"
     ]
    }
   ],
   "execution_count": 7
  },
  {
   "metadata": {},
   "cell_type": "markdown",
   "source": "### Exponential",
   "id": "765ac5bb17de4b1b"
  },
  {
   "metadata": {
    "ExecuteTime": {
     "end_time": "2024-06-13T10:55:15.911632Z",
     "start_time": "2024-06-13T10:55:15.906888Z"
    }
   },
   "cell_type": "code",
   "source": [
    "z = x.pow(2)\n",
    "print(z)"
   ],
   "id": "9f787e3b427361f1",
   "outputs": [
    {
     "name": "stdout",
     "output_type": "stream",
     "text": [
      "tensor([1, 4, 9])\n"
     ]
    }
   ],
   "execution_count": 8
  },
  {
   "metadata": {
    "ExecuteTime": {
     "end_time": "2024-06-13T10:55:15.916304Z",
     "start_time": "2024-06-13T10:55:15.912638Z"
    }
   },
   "cell_type": "code",
   "source": [
    "z = x ** 2\n",
    "print(z)"
   ],
   "id": "182015f257ed94c9",
   "outputs": [
    {
     "name": "stdout",
     "output_type": "stream",
     "text": [
      "tensor([1, 4, 9])\n"
     ]
    }
   ],
   "execution_count": 9
  },
  {
   "metadata": {},
   "cell_type": "markdown",
   "source": "### Simple Comparison",
   "id": "e7f5cb1041c74ae0"
  },
  {
   "metadata": {
    "ExecuteTime": {
     "end_time": "2024-06-13T10:55:15.921741Z",
     "start_time": "2024-06-13T10:55:15.917309Z"
    }
   },
   "cell_type": "code",
   "source": [
    "z = x > 0\n",
    "print(z)"
   ],
   "id": "dd46a89a08667b6a",
   "outputs": [
    {
     "name": "stdout",
     "output_type": "stream",
     "text": [
      "tensor([True, True, True])\n"
     ]
    }
   ],
   "execution_count": 10
  },
  {
   "metadata": {
    "ExecuteTime": {
     "end_time": "2024-06-13T10:55:15.928967Z",
     "start_time": "2024-06-13T10:55:15.922753Z"
    }
   },
   "cell_type": "code",
   "source": [
    "z = x < 0\n",
    "print(z)"
   ],
   "id": "b924faab3ee6c11e",
   "outputs": [
    {
     "name": "stdout",
     "output_type": "stream",
     "text": [
      "tensor([False, False, False])\n"
     ]
    }
   ],
   "execution_count": 11
  },
  {
   "metadata": {},
   "cell_type": "markdown",
   "source": "### Matrix Multiplication",
   "id": "8b76250d81444d03"
  },
  {
   "metadata": {
    "ExecuteTime": {
     "end_time": "2024-06-13T10:55:15.936676Z",
     "start_time": "2024-06-13T10:55:15.929974Z"
    }
   },
   "cell_type": "code",
   "source": [
    "x1 = torch.rand((2, 5))\n",
    "x2 = torch.rand((5, 3))\n",
    "x3 = torch.mm(x1, x2)\n",
    "print(x3)"
   ],
   "id": "8228d6191a67ae4",
   "outputs": [
    {
     "name": "stdout",
     "output_type": "stream",
     "text": [
      "tensor([[0.7086, 0.7151, 0.6020],\n",
      "        [1.9463, 1.1799, 1.9670]])\n"
     ]
    }
   ],
   "execution_count": 12
  },
  {
   "metadata": {
    "ExecuteTime": {
     "end_time": "2024-06-13T10:55:15.940923Z",
     "start_time": "2024-06-13T10:55:15.937689Z"
    }
   },
   "cell_type": "code",
   "source": [
    "# or another way\n",
    "x3 = x1.mm(x2)\n",
    "print(x3)"
   ],
   "id": "d1815f3fb12f435",
   "outputs": [
    {
     "name": "stdout",
     "output_type": "stream",
     "text": [
      "tensor([[0.7086, 0.7151, 0.6020],\n",
      "        [1.9463, 1.1799, 1.9670]])\n"
     ]
    }
   ],
   "execution_count": 13
  },
  {
   "metadata": {},
   "cell_type": "markdown",
   "source": "### Matrix Exponential",
   "id": "d3a0321a13ade256"
  },
  {
   "metadata": {
    "ExecuteTime": {
     "end_time": "2024-06-13T10:55:15.948533Z",
     "start_time": "2024-06-13T10:55:15.942930Z"
    }
   },
   "cell_type": "code",
   "source": [
    "matrix_exp = torch.rand(5, 5)\n",
    "print(matrix_exp)\n",
    "matrix1 = matrix_exp.matrix_power(3)\n",
    "print(matrix1)"
   ],
   "id": "bb8c1a1da202643d",
   "outputs": [
    {
     "name": "stdout",
     "output_type": "stream",
     "text": [
      "tensor([[0.0541, 0.7257, 0.5534, 0.3114, 0.6127],\n",
      "        [0.9282, 0.3048, 0.6456, 0.1153, 0.2675],\n",
      "        [0.3949, 0.5718, 0.6394, 0.3325, 0.3192],\n",
      "        [0.9752, 0.6238, 0.5796, 0.4721, 0.7253],\n",
      "        [0.8617, 0.9915, 0.1393, 0.5835, 0.6890]])\n",
      "tensor([[3.4907, 3.8478, 3.1643, 2.0547, 3.0808],\n",
      "        [3.6016, 3.4085, 2.8417, 1.8775, 2.6744],\n",
      "        [3.4562, 3.6514, 3.0167, 1.9731, 2.8858],\n",
      "        [5.5816, 5.5947, 4.5573, 3.0443, 4.4462],\n",
      "        [5.2471, 5.5603, 4.4667, 2.9974, 4.4099]])\n"
     ]
    }
   ],
   "execution_count": 14
  },
  {
   "metadata": {},
   "cell_type": "markdown",
   "source": "### Element wise multiplication",
   "id": "c137f190678d9fd6"
  },
  {
   "metadata": {
    "ExecuteTime": {
     "end_time": "2024-06-13T10:55:15.954702Z",
     "start_time": "2024-06-13T10:55:15.949539Z"
    }
   },
   "cell_type": "code",
   "source": [
    "z = x * y\n",
    "print(z)"
   ],
   "id": "24fb510471abb328",
   "outputs": [
    {
     "name": "stdout",
     "output_type": "stream",
     "text": [
      "tensor([ 9, 16, 21])\n"
     ]
    }
   ],
   "execution_count": 15
  },
  {
   "metadata": {
    "ExecuteTime": {
     "end_time": "2024-06-13T10:55:15.959283Z",
     "start_time": "2024-06-13T10:55:15.955708Z"
    }
   },
   "cell_type": "code",
   "source": [
    "# or another way\n",
    "z = torch.mul(x, y)\n",
    "print(z)"
   ],
   "id": "6c9d10ff49f70739",
   "outputs": [
    {
     "name": "stdout",
     "output_type": "stream",
     "text": [
      "tensor([ 9, 16, 21])\n"
     ]
    }
   ],
   "execution_count": 16
  },
  {
   "metadata": {},
   "cell_type": "markdown",
   "source": [
    "矩阵乘法的总结：\n",
    "`*` `torch.mul`、`torch.multiply` 三者操作含义是相同的。只是别名和简写的区别。`torch.multiply` 是 `torch.mul` 的别名，`*` 是 `torch.mul` 的简写。\n",
    "\n",
    "`torch.mm()`函数用于计算两个矩阵的乘积，但是两个矩阵的维度必须满足矩阵乘法的要求。\n",
    "\n",
    "`torch.matmul()`函数用于计算两个张量的乘积，但是两个张量的维度必须满足广播的要求。\n"
   ],
   "id": "a26d253292fae440"
  },
  {
   "metadata": {},
   "cell_type": "markdown",
   "source": "### Dot Product",
   "id": "38a92200ff1464d"
  },
  {
   "metadata": {
    "ExecuteTime": {
     "end_time": "2024-06-13T10:55:15.966805Z",
     "start_time": "2024-06-13T10:55:15.961289Z"
    }
   },
   "cell_type": "code",
   "source": [
    "z = torch.dot(x, y)\n",
    "print(z)\n",
    "#or another way\n",
    "z = x.dot(y)\n",
    "print(z)"
   ],
   "id": "b2ea318c29d884",
   "outputs": [
    {
     "name": "stdout",
     "output_type": "stream",
     "text": [
      "tensor(46)\n",
      "tensor(46)\n"
     ]
    }
   ],
   "execution_count": 17
  },
  {
   "metadata": {},
   "cell_type": "markdown",
   "source": [
    "在用`torch.dot()`时要注意这个函数用于计算两个一维张量的点积。对于更高维的张量，可以使用`torch.matmul()`函数。\n",
    "而且两个张量的维度必须相同，且张量的元素个数也必须相同。"
   ],
   "id": "14683cfff7894ac0"
  },
  {
   "metadata": {},
   "cell_type": "markdown",
   "source": "### Batch Matrix Multiplication",
   "id": "bcee1e2c992a5ceb"
  },
  {
   "metadata": {
    "ExecuteTime": {
     "end_time": "2024-06-13T10:55:15.973384Z",
     "start_time": "2024-06-13T10:55:15.967811Z"
    }
   },
   "cell_type": "code",
   "source": [
    "batch = 32\n",
    "n = 10\n",
    "m = 20\n",
    "p = 30\n",
    "tensor1 = torch.rand((batch, n, m))\n",
    "tensor2 = torch.rand((batch, m, p))\n",
    "out_bmm = torch.bmm(tensor1, tensor2)"
   ],
   "id": "4f882a5cf90948fc",
   "outputs": [],
   "execution_count": 18
  },
  {
   "metadata": {},
   "cell_type": "markdown",
   "source": [
    "在这个例子中：\n",
    "\n",
    "tensor1 的形状是 (batch, n, m)，即 (32, 10, 20)。它表示有 32 个 10x20 的矩阵。\n",
    "tensor2 的形状是 (batch, m, p)，即 (32, 20, 30)。它表示有 32 个 20x30 的矩阵。\n",
    "torch.bmm(tensor1, tensor2) 的操作是对这 32 对矩阵分别进行矩阵乘法操作。对于每个 i (0 <= i < 32)，计算 tensor1[i] 和 tensor2[i] 的矩阵乘积。"
   ],
   "id": "d77aaa3c352004a3"
  },
  {
   "metadata": {},
   "cell_type": "markdown",
   "source": "### examples of boardcasting",
   "id": "8b7913203945c365"
  },
  {
   "metadata": {
    "ExecuteTime": {
     "end_time": "2024-06-13T11:11:31.280979Z",
     "start_time": "2024-06-13T11:11:31.276883Z"
    }
   },
   "cell_type": "code",
   "source": [
    "x1 = torch.rand((5, 5))\n",
    "x2 = torch.rand((1, 5))\n",
    "\n",
    "z = x1 - x2\n"
   ],
   "id": "8f568a649fd4907c",
   "outputs": [],
   "execution_count": 19
  },
  {
   "metadata": {
    "ExecuteTime": {
     "end_time": "2024-06-13T11:11:46.494251Z",
     "start_time": "2024-06-13T11:11:46.489616Z"
    }
   },
   "cell_type": "code",
   "source": "print(z)",
   "id": "76b00317c2bc8410",
   "outputs": [
    {
     "name": "stdout",
     "output_type": "stream",
     "text": [
      "tensor([[ 0.3134, -0.7650,  0.0216, -0.1860,  0.4656],\n",
      "        [ 0.3192, -0.5833,  0.4658, -0.0076,  0.3512],\n",
      "        [-0.3568, -0.7488,  0.5980, -0.6667,  0.1463],\n",
      "        [ 0.3745, -0.3787,  0.8744, -0.6054,  0.7659],\n",
      "        [-0.0203, -0.8447,  0.9403,  0.0239,  0.0819]])\n"
     ]
    }
   ],
   "execution_count": 20
  },
  {
   "metadata": {},
   "cell_type": "markdown",
   "source": "### other useful tensor operations",
   "id": "6f219584d7ea17ab"
  },
  {
   "metadata": {
    "ExecuteTime": {
     "end_time": "2024-06-13T11:16:36.077358Z",
     "start_time": "2024-06-13T11:16:36.072977Z"
    }
   },
   "cell_type": "code",
   "source": [
    "x_to_sum = torch.rand((5, 2, 3))\n",
    "print(x_to_sum)"
   ],
   "id": "646b71f44b15510c",
   "outputs": [
    {
     "name": "stdout",
     "output_type": "stream",
     "text": [
      "tensor([[[0.5878, 0.8896, 0.7794],\n",
      "         [0.5391, 0.2126, 0.0734]],\n",
      "\n",
      "        [[0.4254, 0.5586, 0.6206],\n",
      "         [0.0324, 0.6282, 0.5655]],\n",
      "\n",
      "        [[0.5419, 0.8184, 0.5185],\n",
      "         [0.4072, 0.1345, 0.1188]],\n",
      "\n",
      "        [[0.5047, 0.9791, 0.0626],\n",
      "         [0.7169, 0.3122, 0.2491]],\n",
      "\n",
      "        [[0.5733, 0.9617, 0.3749],\n",
      "         [0.1766, 0.9617, 0.7311]]])\n"
     ]
    }
   ],
   "execution_count": 21
  },
  {
   "metadata": {
    "ExecuteTime": {
     "end_time": "2024-06-13T11:17:14.684580Z",
     "start_time": "2024-06-13T11:17:14.680580Z"
    }
   },
   "cell_type": "code",
   "source": [
    "sum_over_batch = torch.sum(x_to_sum, dim = 0)\n",
    "print(sum_over_batch)"
   ],
   "id": "41dd5e429a6f2178",
   "outputs": [
    {
     "name": "stdout",
     "output_type": "stream",
     "text": [
      "tensor([[2.6329, 4.2074, 2.3560],\n",
      "        [1.8722, 2.2492, 1.7380]])\n"
     ]
    }
   ],
   "execution_count": 22
  },
  {
   "metadata": {
    "ExecuteTime": {
     "end_time": "2024-06-13T11:17:49.731898Z",
     "start_time": "2024-06-13T11:17:49.727031Z"
    }
   },
   "cell_type": "code",
   "source": [
    "sum_over_n = torch.sum(x_to_sum, dim = 1)\n",
    "print(sum_over_n)"
   ],
   "id": "53accdccda8dc628",
   "outputs": [
    {
     "name": "stdout",
     "output_type": "stream",
     "text": [
      "tensor([[1.1269, 1.1022, 0.8529],\n",
      "        [0.4578, 1.1868, 1.1861],\n",
      "        [0.9490, 0.9529, 0.6373],\n",
      "        [1.2215, 1.2912, 0.3117],\n",
      "        [0.7499, 1.9234, 1.1060]])\n"
     ]
    }
   ],
   "execution_count": 23
  },
  {
   "metadata": {
    "ExecuteTime": {
     "end_time": "2024-06-13T11:19:01.681400Z",
     "start_time": "2024-06-13T11:19:01.677251Z"
    }
   },
   "cell_type": "code",
   "source": [
    "sum_over_m = torch.sum(x_to_sum, dim = 2)\n",
    "print(sum_over_m)"
   ],
   "id": "b9017f289786d967",
   "outputs": [
    {
     "name": "stdout",
     "output_type": "stream",
     "text": [
      "tensor([[2.2568, 0.8251],\n",
      "        [1.6046, 1.2262],\n",
      "        [1.8788, 0.6605],\n",
      "        [1.5463, 1.2781],\n",
      "        [1.9099, 1.8694]])\n"
     ]
    }
   ],
   "execution_count": 24
  },
  {
   "metadata": {
    "ExecuteTime": {
     "end_time": "2024-06-13T11:19:54.717068Z",
     "start_time": "2024-06-13T11:19:54.712934Z"
    }
   },
   "cell_type": "code",
   "source": [
    "total_sum = torch.sum(x_to_sum)\n",
    "print(total_sum)"
   ],
   "id": "3f239ac6c5d3b06e",
   "outputs": [
    {
     "name": "stdout",
     "output_type": "stream",
     "text": [
      "tensor(15.0557)\n"
     ]
    }
   ],
   "execution_count": 25
  },
  {
   "metadata": {},
   "cell_type": "markdown",
   "source": "#### max",
   "id": "29a203bece137b60"
  },
  {
   "metadata": {
    "ExecuteTime": {
     "end_time": "2024-06-13T11:21:48.303585Z",
     "start_time": "2024-06-13T11:21:48.297731Z"
    }
   },
   "cell_type": "code",
   "source": [
    "x = torch.rand(2, 5)\n",
    "print(x)"
   ],
   "id": "898333739cf2b30",
   "outputs": [
    {
     "name": "stdout",
     "output_type": "stream",
     "text": [
      "tensor([[0.0704, 0.6303, 0.0136, 0.4029, 0.7298],\n",
      "        [0.7980, 0.2494, 0.1617, 0.7156, 0.5192]])\n"
     ]
    }
   ],
   "execution_count": 26
  },
  {
   "metadata": {
    "ExecuteTime": {
     "end_time": "2024-06-13T11:22:11.033642Z",
     "start_time": "2024-06-13T11:22:11.029Z"
    }
   },
   "cell_type": "code",
   "source": [
    "values, indices = torch.max(x, dim = 0)\n",
    "print(values, indices)"
   ],
   "id": "f68195581fe53501",
   "outputs": [
    {
     "name": "stdout",
     "output_type": "stream",
     "text": [
      "tensor([0.7980, 0.6303, 0.1617, 0.7156, 0.7298]) tensor([1, 0, 1, 1, 0])\n"
     ]
    }
   ],
   "execution_count": 27
  },
  {
   "metadata": {
    "ExecuteTime": {
     "end_time": "2024-06-13T11:23:40.516971Z",
     "start_time": "2024-06-13T11:23:40.512540Z"
    }
   },
   "cell_type": "code",
   "source": [
    "values, indices = torch.max(x, dim = 1)\n",
    "print(values, indices)"
   ],
   "id": "ff449c7889cba763",
   "outputs": [
    {
     "name": "stdout",
     "output_type": "stream",
     "text": [
      "tensor([0.7298, 0.7980]) tensor([4, 0])\n"
     ]
    }
   ],
   "execution_count": 28
  },
  {
   "metadata": {
    "ExecuteTime": {
     "end_time": "2024-06-13T11:25:04.478080Z",
     "start_time": "2024-06-13T11:25:04.472428Z"
    }
   },
   "cell_type": "code",
   "source": [
    "print(x)\n",
    "values, indices = torch.min(x, dim = 0)\n",
    "print(values, indices)"
   ],
   "id": "3efdc7f368acac50",
   "outputs": [
    {
     "name": "stdout",
     "output_type": "stream",
     "text": [
      "tensor([[0.0704, 0.6303, 0.0136, 0.4029, 0.7298],\n",
      "        [0.7980, 0.2494, 0.1617, 0.7156, 0.5192]])\n",
      "tensor([0.0704, 0.2494, 0.0136, 0.4029, 0.5192]) tensor([0, 1, 0, 0, 1])\n"
     ]
    }
   ],
   "execution_count": 29
  },
  {
   "metadata": {},
   "cell_type": "markdown",
   "source": "#### abs",
   "id": "33e83b76103685f7"
  },
  {
   "metadata": {
    "ExecuteTime": {
     "end_time": "2024-06-13T11:27:32.001259Z",
     "start_time": "2024-06-13T11:27:31.996910Z"
    }
   },
   "cell_type": "code",
   "source": [
    "x = torch.linspace(-10, 10, 10)\n",
    "print(x)\n",
    "abs_x = torch.abs(x)\n",
    "print(abs_x)"
   ],
   "id": "34486df1655a9bc9",
   "outputs": [
    {
     "name": "stdout",
     "output_type": "stream",
     "text": [
      "tensor([-10.0000,  -7.7778,  -5.5556,  -3.3333,  -1.1111,   1.1111,   3.3333,\n",
      "          5.5556,   7.7778,  10.0000])\n",
      "tensor([10.0000,  7.7778,  5.5556,  3.3333,  1.1111,  1.1111,  3.3333,  5.5556,\n",
      "         7.7778, 10.0000])\n"
     ]
    }
   ],
   "execution_count": 30
  },
  {
   "metadata": {
    "ExecuteTime": {
     "end_time": "2024-06-13T11:28:10.803253Z",
     "start_time": "2024-06-13T11:28:10.797219Z"
    }
   },
   "cell_type": "code",
   "source": [
    "z = torch.argmax(x)\n",
    "print(z)"
   ],
   "id": "aad0634035d4ca97",
   "outputs": [
    {
     "name": "stdout",
     "output_type": "stream",
     "text": [
      "tensor(9)\n"
     ]
    }
   ],
   "execution_count": 31
  },
  {
   "metadata": {},
   "cell_type": "markdown",
   "source": "#### mean",
   "id": "c7bc075399a452f4"
  },
  {
   "metadata": {
    "ExecuteTime": {
     "end_time": "2024-06-13T11:29:13.764151Z",
     "start_time": "2024-06-13T11:29:13.758144Z"
    }
   },
   "cell_type": "code",
   "source": [
    "print(x)\n",
    "mean_x = torch.mean(x.float(), dim = 0)\n",
    "print(mean_x)"
   ],
   "id": "46d575d0febc0d5d",
   "outputs": [
    {
     "name": "stdout",
     "output_type": "stream",
     "text": [
      "tensor([-10.0000,  -7.7778,  -5.5556,  -3.3333,  -1.1111,   1.1111,   3.3333,\n",
      "          5.5556,   7.7778,  10.0000])\n",
      "tensor(9.5367e-08)\n"
     ]
    }
   ],
   "execution_count": 32
  },
  {
   "metadata": {
    "ExecuteTime": {
     "end_time": "2024-06-13T11:30:45.585266Z",
     "start_time": "2024-06-13T11:30:45.581293Z"
    }
   },
   "cell_type": "code",
   "source": [
    "x = torch.rand(2, 5)\n",
    "mean_x_1 = torch.mean(x.float(), dim = 1)\n",
    "print(mean_x_1)"
   ],
   "id": "ddc32fa4f4fbd47b",
   "outputs": [
    {
     "name": "stdout",
     "output_type": "stream",
     "text": [
      "tensor([0.5867, 0.3615])\n"
     ]
    }
   ],
   "execution_count": 34
  },
  {
   "metadata": {},
   "cell_type": "markdown",
   "source": "#### clamp",
   "id": "f2eead8ca55d56c4"
  },
  {
   "metadata": {
    "ExecuteTime": {
     "end_time": "2024-06-13T11:41:56.985357Z",
     "start_time": "2024-06-13T11:41:56.981313Z"
    }
   },
   "cell_type": "code",
   "source": [
    "x = torch.arange(-5, 15, 2)\n",
    "print(x)"
   ],
   "id": "c735dc3266fcef91",
   "outputs": [
    {
     "name": "stdout",
     "output_type": "stream",
     "text": [
      "tensor([-5, -3, -1,  1,  3,  5,  7,  9, 11, 13])\n"
     ]
    }
   ],
   "execution_count": 35
  },
  {
   "metadata": {
    "ExecuteTime": {
     "end_time": "2024-06-13T11:42:31.494346Z",
     "start_time": "2024-06-13T11:42:31.490458Z"
    }
   },
   "cell_type": "code",
   "source": [
    "x_clamp = x.clamp(min = 0)\n",
    "print(x_clamp)"
   ],
   "id": "7f30cae8317c3ed9",
   "outputs": [
    {
     "name": "stdout",
     "output_type": "stream",
     "text": [
      "tensor([ 0,  0,  0,  1,  3,  5,  7,  9, 11, 13])\n"
     ]
    }
   ],
   "execution_count": 36
  },
  {
   "metadata": {
    "ExecuteTime": {
     "end_time": "2024-06-13T11:42:41.288416Z",
     "start_time": "2024-06-13T11:42:41.284204Z"
    }
   },
   "cell_type": "code",
   "source": [
    "x_clamp = x.clamp(max = 10)\n",
    "print(x_clamp)"
   ],
   "id": "497e61367599b1c2",
   "outputs": [
    {
     "name": "stdout",
     "output_type": "stream",
     "text": [
      "tensor([-5, -3, -1,  1,  3,  5,  7,  9, 10, 10])\n"
     ]
    }
   ],
   "execution_count": 37
  },
  {
   "metadata": {
    "ExecuteTime": {
     "end_time": "2024-06-13T11:42:47.469599Z",
     "start_time": "2024-06-13T11:42:47.465631Z"
    }
   },
   "cell_type": "code",
   "source": [
    "x_clamp = x.clamp(min = 0, max = 10)\n",
    "print(x_clamp)"
   ],
   "id": "1ec552c618a3120",
   "outputs": [
    {
     "name": "stdout",
     "output_type": "stream",
     "text": [
      "tensor([ 0,  0,  0,  1,  3,  5,  7,  9, 10, 10])\n"
     ]
    }
   ],
   "execution_count": 38
  },
  {
   "metadata": {},
   "cell_type": "markdown",
   "source": [
    "torch.any 可以测试张量中是否有任意元素为真。\n",
    "如果不指定维度，它将返回一个标量，表示整个张量中是否有任意元素为真。\n",
    "如果指定维度，它将沿着该维度操作，返回一个新的张量，表示每一行或每一列是否有任意元素为真。"
   ],
   "id": "52136039482930ae"
  },
  {
   "metadata": {
    "ExecuteTime": {
     "end_time": "2024-06-13T11:47:33.911472Z",
     "start_time": "2024-06-13T11:47:33.905132Z"
    }
   },
   "cell_type": "code",
   "source": [
    "# 创建一个张量\n",
    "x = torch.tensor([[0, 0, 0], [1, 0, 0], [0, 0, 1]])\n",
    "print(\"Original tensor x:\\n\", x)\n",
    "\n",
    "# 沿着第 0 维度（行）进行操作\n",
    "any_true_dim0 = torch.any(x, dim=0)\n",
    "print(\"Any element is true along dim 0:\\n\", any_true_dim0)\n",
    "\n",
    "# 沿着第 1 维度（列）进行操作\n",
    "any_true_dim1 = torch.any(x, dim=1)\n",
    "print(\"Any element is true along dim 1:\\n\", any_true_dim1)"
   ],
   "id": "9449321eb661b72c",
   "outputs": [
    {
     "name": "stdout",
     "output_type": "stream",
     "text": [
      "Original tensor x:\n",
      " tensor([[0, 0, 0],\n",
      "        [1, 0, 0],\n",
      "        [0, 0, 1]])\n",
      "Any element is true along dim 0:\n",
      " tensor([ True, False,  True])\n",
      "Any element is true along dim 1:\n",
      " tensor([False,  True,  True])\n"
     ]
    }
   ],
   "execution_count": 39
  },
  {
   "metadata": {
    "ExecuteTime": {
     "end_time": "2024-06-13T11:50:07.067964Z",
     "start_time": "2024-06-13T11:50:07.063946Z"
    }
   },
   "cell_type": "code",
   "source": [
    "all_true_dim0 = torch.all(x, dim=0)\n",
    "print(\"All elements are true along dim 0:\\n\", all_true_dim0)\n",
    "all_true_dim1 = torch.all(x, dim=1)\n",
    "print(\"All elements are true along dim 1:\\n\", all_true_dim1)\n"
   ],
   "id": "bd3b3a1334f0402c",
   "outputs": [
    {
     "name": "stdout",
     "output_type": "stream",
     "text": [
      "All elements are true along dim 0:\n",
      " tensor([False, False, False])\n",
      "All elements are true along dim 1:\n",
      " tensor([False, False, False])\n"
     ]
    }
   ],
   "execution_count": 40
  }
 ],
 "metadata": {
  "kernelspec": {
   "display_name": "Python 3",
   "language": "python",
   "name": "python3"
  },
  "language_info": {
   "codemirror_mode": {
    "name": "ipython",
    "version": 2
   },
   "file_extension": ".py",
   "mimetype": "text/x-python",
   "name": "python",
   "nbconvert_exporter": "python",
   "pygments_lexer": "ipython2",
   "version": "2.7.6"
  }
 },
 "nbformat": 4,
 "nbformat_minor": 5
}
