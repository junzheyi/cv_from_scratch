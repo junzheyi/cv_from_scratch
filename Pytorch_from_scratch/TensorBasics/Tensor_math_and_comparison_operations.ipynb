{
 "cells": [
  {
   "metadata": {},
   "cell_type": "markdown",
   "source": "# Tensor Math and Comparison Operations",
   "id": "92e21f0fdb5da6b3"
  },
  {
   "cell_type": "code",
   "id": "initial_id",
   "metadata": {
    "collapsed": true,
    "ExecuteTime": {
     "end_time": "2024-05-30T12:57:50.318166Z",
     "start_time": "2024-05-30T12:57:48.896357Z"
    }
   },
   "source": [
    "import torch\n",
    "x = torch.tensor([1, 2, 3])\n",
    "y = torch.tensor([9, 8, 7])\n",
    "\n",
    "# Addition\n",
    "z1 = torch.empty(3)\n",
    "torch.add(x, y, out=z1)\n",
    "print(z1)"
   ],
   "outputs": [
    {
     "name": "stdout",
     "output_type": "stream",
     "text": [
      "tensor([10., 10., 10.])\n"
     ]
    }
   ],
   "execution_count": 1
  },
  {
   "metadata": {
    "ExecuteTime": {
     "end_time": "2024-05-30T12:58:32.158938Z",
     "start_time": "2024-05-30T12:58:32.154766Z"
    }
   },
   "cell_type": "code",
   "source": [
    "# or another way\n",
    "z2 = torch.add(x, y)\n",
    "print(z2)"
   ],
   "id": "cd9a6e0f2ad12a56",
   "outputs": [
    {
     "name": "stdout",
     "output_type": "stream",
     "text": [
      "tensor([10, 10, 10])\n"
     ]
    }
   ],
   "execution_count": 2
  },
  {
   "metadata": {
    "ExecuteTime": {
     "end_time": "2024-05-30T12:59:14.590056Z",
     "start_time": "2024-05-30T12:59:14.585055Z"
    }
   },
   "cell_type": "code",
   "source": [
    "# or another way\n",
    "z = x + y\n",
    "print(z)"
   ],
   "id": "c724f114e2692805",
   "outputs": [
    {
     "name": "stdout",
     "output_type": "stream",
     "text": [
      "tensor([10, 10, 10])\n"
     ]
    }
   ],
   "execution_count": 3
  },
  {
   "metadata": {},
   "cell_type": "markdown",
   "source": "### subtraction",
   "id": "784acd7992d7a0d9"
  },
  {
   "metadata": {
    "ExecuteTime": {
     "end_time": "2024-05-30T13:00:23.196502Z",
     "start_time": "2024-05-30T13:00:23.193298Z"
    }
   },
   "cell_type": "code",
   "source": [
    "z = x - y\n",
    "print(z)"
   ],
   "id": "f1d5ce6e96245540",
   "outputs": [
    {
     "name": "stdout",
     "output_type": "stream",
     "text": [
      "tensor([-8, -6, -4])\n"
     ]
    }
   ],
   "execution_count": 4
  },
  {
   "metadata": {},
   "cell_type": "markdown",
   "source": "### Division",
   "id": "3d50949faf8259f7"
  },
  {
   "metadata": {
    "ExecuteTime": {
     "end_time": "2024-05-30T13:01:30.041347Z",
     "start_time": "2024-05-30T13:01:30.037294Z"
    }
   },
   "cell_type": "code",
   "source": [
    "z = torch.true_divide(x, y)\n",
    "print(z)"
   ],
   "id": "845c1714e695faf9",
   "outputs": [
    {
     "name": "stdout",
     "output_type": "stream",
     "text": [
      "tensor([0.1111, 0.2500, 0.4286])\n"
     ]
    }
   ],
   "execution_count": 5
  },
  {
   "metadata": {},
   "cell_type": "markdown",
   "source": "### Inplace Operations",
   "id": "5edf1ca031c4efdd"
  },
  {
   "metadata": {
    "ExecuteTime": {
     "end_time": "2024-05-30T13:04:38.202958Z",
     "start_time": "2024-05-30T13:04:38.197826Z"
    }
   },
   "cell_type": "code",
   "source": [
    "t = torch.zeros(3)\n",
    "t.add_(x)\n",
    "print(t)"
   ],
   "id": "6bd52e4ea40e5943",
   "outputs": [
    {
     "name": "stdout",
     "output_type": "stream",
     "text": [
      "tensor([1., 2., 3.])\n"
     ]
    }
   ],
   "execution_count": 6
  },
  {
   "metadata": {},
   "cell_type": "markdown",
   "source": "### Exponential",
   "id": "765ac5bb17de4b1b"
  },
  {
   "metadata": {
    "ExecuteTime": {
     "end_time": "2024-05-30T13:05:15.292627Z",
     "start_time": "2024-05-30T13:05:15.289205Z"
    }
   },
   "cell_type": "code",
   "source": [
    "z = x.pow(2)\n",
    "print(z)"
   ],
   "id": "9f787e3b427361f1",
   "outputs": [
    {
     "name": "stdout",
     "output_type": "stream",
     "text": [
      "tensor([1, 4, 9])\n"
     ]
    }
   ],
   "execution_count": 7
  },
  {
   "metadata": {
    "ExecuteTime": {
     "end_time": "2024-05-30T13:05:25.455249Z",
     "start_time": "2024-05-30T13:05:25.450011Z"
    }
   },
   "cell_type": "code",
   "source": [
    "z = x ** 2\n",
    "print(z)"
   ],
   "id": "182015f257ed94c9",
   "outputs": [
    {
     "name": "stdout",
     "output_type": "stream",
     "text": [
      "tensor([1, 4, 9])\n"
     ]
    }
   ],
   "execution_count": 8
  },
  {
   "metadata": {},
   "cell_type": "markdown",
   "source": "### Simple Comparison",
   "id": "e7f5cb1041c74ae0"
  },
  {
   "metadata": {
    "ExecuteTime": {
     "end_time": "2024-05-30T13:06:03.902454Z",
     "start_time": "2024-05-30T13:06:03.898009Z"
    }
   },
   "cell_type": "code",
   "source": [
    "z = x > 0\n",
    "print(z)"
   ],
   "id": "dd46a89a08667b6a",
   "outputs": [
    {
     "name": "stdout",
     "output_type": "stream",
     "text": [
      "tensor([True, True, True])\n"
     ]
    }
   ],
   "execution_count": 9
  },
  {
   "metadata": {
    "ExecuteTime": {
     "end_time": "2024-05-30T13:06:16.771793Z",
     "start_time": "2024-05-30T13:06:16.768409Z"
    }
   },
   "cell_type": "code",
   "source": [
    "z = x < 0\n",
    "print(z)"
   ],
   "id": "b924faab3ee6c11e",
   "outputs": [
    {
     "name": "stdout",
     "output_type": "stream",
     "text": [
      "tensor([False, False, False])\n"
     ]
    }
   ],
   "execution_count": 10
  },
  {
   "metadata": {},
   "cell_type": "markdown",
   "source": "### Matrix Multiplication",
   "id": "8b76250d81444d03"
  },
  {
   "metadata": {
    "ExecuteTime": {
     "end_time": "2024-05-30T13:07:55.896389Z",
     "start_time": "2024-05-30T13:07:55.889337Z"
    }
   },
   "cell_type": "code",
   "source": [
    "x1 = torch.rand((2, 5))\n",
    "x2 = torch.rand((5, 3))\n",
    "x3 = torch.mm(x1, x2)\n",
    "print(x3)"
   ],
   "id": "8228d6191a67ae4",
   "outputs": [
    {
     "name": "stdout",
     "output_type": "stream",
     "text": [
      "tensor([[0.8929, 1.3297, 0.6892],\n",
      "        [0.6320, 1.0509, 1.2979]])\n"
     ]
    }
   ],
   "execution_count": 11
  },
  {
   "metadata": {
    "ExecuteTime": {
     "end_time": "2024-05-30T13:09:27.806467Z",
     "start_time": "2024-05-30T13:09:27.801605Z"
    }
   },
   "cell_type": "code",
   "source": [
    "# or another way\n",
    "x3 = x1.mm(x2)\n",
    "print(x3)"
   ],
   "id": "d1815f3fb12f435",
   "outputs": [
    {
     "name": "stdout",
     "output_type": "stream",
     "text": [
      "tensor([[0.8929, 1.3297, 0.6892],\n",
      "        [0.6320, 1.0509, 1.2979]])\n"
     ]
    }
   ],
   "execution_count": 12
  },
  {
   "metadata": {},
   "cell_type": "markdown",
   "source": "### Matrix Exponential",
   "id": "d3a0321a13ade256"
  },
  {
   "metadata": {
    "ExecuteTime": {
     "end_time": "2024-05-30T13:13:29.875981Z",
     "start_time": "2024-05-30T13:13:29.871103Z"
    }
   },
   "cell_type": "code",
   "source": [
    "matrix_exp = torch.rand(5, 5)\n",
    "print(matrix_exp)\n",
    "matrix1 = matrix_exp.matrix_power(3)\n",
    "print(matrix1)"
   ],
   "id": "bb8c1a1da202643d",
   "outputs": [
    {
     "name": "stdout",
     "output_type": "stream",
     "text": [
      "tensor([[0.7776, 0.7692, 0.8097, 0.7730, 0.6077],\n",
      "        [0.1657, 0.9350, 0.4295, 0.2274, 0.4279],\n",
      "        [0.9458, 0.9808, 0.0968, 0.5220, 0.8759],\n",
      "        [0.1016, 0.2652, 0.7032, 0.7387, 0.5517],\n",
      "        [0.9063, 0.4234, 0.6333, 0.2926, 0.2145]])\n",
      "tensor([[6.0129, 7.3637, 5.6972, 5.2998, 5.6348],\n",
      "        [3.1643, 4.0825, 3.0001, 2.7097, 2.9723],\n",
      "        [5.3808, 6.6876, 4.8003, 4.7078, 5.1755],\n",
      "        [3.6881, 4.3904, 3.5212, 3.2551, 3.3909],\n",
      "        [4.2987, 5.2880, 4.1650, 3.8275, 4.0279]])\n"
     ]
    }
   ],
   "execution_count": 14
  },
  {
   "metadata": {},
   "cell_type": "markdown",
   "source": "### Element wise multiplication",
   "id": "c137f190678d9fd6"
  },
  {
   "metadata": {
    "ExecuteTime": {
     "end_time": "2024-05-30T13:15:24.215683Z",
     "start_time": "2024-05-30T13:15:24.211901Z"
    }
   },
   "cell_type": "code",
   "source": [
    "z = x * y\n",
    "print(z)"
   ],
   "id": "24fb510471abb328",
   "outputs": [
    {
     "name": "stdout",
     "output_type": "stream",
     "text": [
      "tensor([ 9, 16, 21])\n"
     ]
    }
   ],
   "execution_count": 15
  },
  {
   "metadata": {
    "ExecuteTime": {
     "end_time": "2024-05-30T13:15:49.874802Z",
     "start_time": "2024-05-30T13:15:49.871278Z"
    }
   },
   "cell_type": "code",
   "source": [
    "# or another way\n",
    "z = torch.mul(x, y)\n",
    "print(z)"
   ],
   "id": "6c9d10ff49f70739",
   "outputs": [
    {
     "name": "stdout",
     "output_type": "stream",
     "text": [
      "tensor([ 9, 16, 21])\n"
     ]
    }
   ],
   "execution_count": 16
  },
  {
   "metadata": {},
   "cell_type": "markdown",
   "source": [
    "矩阵乘法的总结：\n",
    "`*` `torch.mul`、`torch.multiply` 三者操作含义是相同的。只是别名和简写的区别。`torch.multiply` 是 `torch.mul` 的别名，`*` 是 `torch.mul` 的简写。\n",
    "\n",
    "`torch.mm()`函数用于计算两个矩阵的乘积，但是两个矩阵的维度必须满足矩阵乘法的要求。\n",
    "\n",
    "`torch.matmul()`函数用于计算两个张量的乘积，但是两个张量的维度必须满足广播的要求。\n"
   ],
   "id": "a26d253292fae440"
  },
  {
   "metadata": {},
   "cell_type": "markdown",
   "source": "### Dot Product",
   "id": "38a92200ff1464d"
  },
  {
   "metadata": {
    "ExecuteTime": {
     "end_time": "2024-05-30T13:19:17.816335Z",
     "start_time": "2024-05-30T13:19:17.811212Z"
    }
   },
   "cell_type": "code",
   "source": [
    "z = torch.dot(x, y)\n",
    "print(z)\n",
    "#or another way\n",
    "z = x.dot(y)\n",
    "print(z)"
   ],
   "id": "b2ea318c29d884",
   "outputs": [
    {
     "name": "stdout",
     "output_type": "stream",
     "text": [
      "tensor(46)\n",
      "tensor(46)\n"
     ]
    }
   ],
   "execution_count": 17
  },
  {
   "metadata": {},
   "cell_type": "markdown",
   "source": [
    "在用`torch.dot()`时要注意这个函数用于计算两个一维张量的点积。对于更高维的张量，可以使用`torch.matmul()`函数。\n",
    "而且两个张量的维度必须相同，且张量的元素个数也必须相同。"
   ],
   "id": "14683cfff7894ac0"
  },
  {
   "metadata": {},
   "cell_type": "markdown",
   "source": "### Batch Matrix Multiplication",
   "id": "bcee1e2c992a5ceb"
  },
  {
   "metadata": {},
   "cell_type": "code",
   "outputs": [],
   "execution_count": null,
   "source": "",
   "id": "4f882a5cf90948fc"
  }
 ],
 "metadata": {
  "kernelspec": {
   "display_name": "Python 3",
   "language": "python",
   "name": "python3"
  },
  "language_info": {
   "codemirror_mode": {
    "name": "ipython",
    "version": 2
   },
   "file_extension": ".py",
   "mimetype": "text/x-python",
   "name": "python",
   "nbconvert_exporter": "python",
   "pygments_lexer": "ipython2",
   "version": "2.7.6"
  }
 },
 "nbformat": 4,
 "nbformat_minor": 5
}
